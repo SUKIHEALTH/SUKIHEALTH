{
  "nbformat": 4,
  "nbformat_minor": 0,
  "metadata": {
    "colab": {
      "provenance": [],
      "authorship_tag": "ABX9TyOU0276n6Lp3b5OchJWFOAJ",
      "include_colab_link": true
    },
    "kernelspec": {
      "name": "python3",
      "display_name": "Python 3"
    },
    "language_info": {
      "name": "python"
    }
  },
  "cells": [
    {
      "cell_type": "markdown",
      "metadata": {
        "id": "view-in-github",
        "colab_type": "text"
      },
      "source": [
        "<a href=\"https://colab.research.google.com/github/SUKIHEALTH/SUKIHEALTH/blob/main/WebsitePostGenerator.ipynb\" target=\"_parent\"><img src=\"https://colab.research.google.com/assets/colab-badge.svg\" alt=\"Open In Colab\"/></a>"
      ]
    },
    {
      "cell_type": "markdown",
      "metadata": {
        "id": "5a40a36c"
      },
      "source": [
        "# Task\n",
        "Create a pipeline that loads the OpenAI API key from Colab secrets, crawls the Thuisarts website, filters links to include only those with \"/ik\" in their absolute URL, scrapes the text from these links, detects the language of the text, generates a post for each URL using the `gpt-4o-mini` model, saves the original URLs, scraped text, detected language, and generated posts into a CSV file, zips the CSV file, and saves the zipped file to Google Drive."
      ]
    },
    {
      "cell_type": "markdown",
      "metadata": {
        "id": "0b7b4921"
      },
      "source": [
        "## Load api key from colab secrets\n",
        "\n",
        "### Subtask:\n",
        "Load the OpenAI API key from Colab secrets to securely access the API.\n"
      ]
    },
    {
      "cell_type": "markdown",
      "metadata": {
        "id": "286c4bbc"
      },
      "source": [
        "**Reasoning**:\n",
        "Load the OpenAI API key from Colab secrets and store it in a variable.\n",
        "\n"
      ]
    },
    {
      "cell_type": "code",
      "metadata": {
        "id": "b1efe3d9"
      },
      "source": [
        "import os\n",
        "from google.colab import userdata\n",
        "\n",
        "openai_api_key = userdata.get('OPENAI_API_KEY')\n",
        "os.environ['OPENAI_API_KEY'] = openai_api_key"
      ],
      "execution_count": 1,
      "outputs": []
    },
    {
      "cell_type": "markdown",
      "metadata": {
        "id": "0b50f73d"
      },
      "source": [
        "## Web crawling\n",
        "\n",
        "### Subtask:\n",
        "Crawl the Thuisarts website to find all links.\n"
      ]
    },
    {
      "cell_type": "markdown",
      "metadata": {
        "id": "ddd69df4"
      },
      "source": [
        "**Reasoning**:\n",
        "Import necessary libraries and define the URL, then fetch and parse the HTML to extract links.\n",
        "\n"
      ]
    },
    {
      "cell_type": "code",
      "metadata": {
        "colab": {
          "base_uri": "https://localhost:8080/"
        },
        "id": "7904279d",
        "outputId": "a0a3b1c1-f2e9-4469-a8f4-9eafd2030818"
      },
      "source": [
        "import requests\n",
        "from bs4 import BeautifulSoup\n",
        "from urllib.parse import urljoin\n",
        "\n",
        "thuisarts_url = 'https://www.thuisarts.nl/overzicht/onderwerpen'\n",
        "response = requests.get(thuisarts_url)\n",
        "soup = BeautifulSoup(response.text, 'html.parser')\n",
        "\n",
        "initial_links = []\n",
        "for link in soup.find_all('a'):\n",
        "    href = link.get('href')\n",
        "    if href:\n",
        "        initial_links.append(urljoin(thuisarts_url, href)) # Store absolute URLs\n",
        "\n",
        "print(f\"Found {len(initial_links)} initial links.\")\n",
        "\n",
        "# Now, crawl each of these initial links and collect all links from those pages\n",
        "all_links = set()\n",
        "for url in initial_links:\n",
        "    try:\n",
        "        response = requests.get(url)\n",
        "        response.raise_for_status()  # Raise an exception for bad status codes\n",
        "        soup = BeautifulSoup(response.text, 'html.parser')\n",
        "        for link in soup.find_all('a'):\n",
        "            href = link.get('href')\n",
        "            if href:\n",
        "                all_links.add(urljoin(url, href)) # Store absolute URLs\n",
        "\n",
        "    except requests.exceptions.RequestException as e:\n",
        "        print(f\"Error fetching {url}: {e}\")\n",
        "\n",
        "print(f\"Found a total of {len(all_links)} links after crawling initial pages.\")\n",
        "\n",
        "# Filter the collected links to keep only those containing \"/ik\"\n",
        "filtered_links = set()\n",
        "for link in all_links:\n",
        "    if \"/ik\" in link:\n",
        "        filtered_links.add(link)\n",
        "\n",
        "# Convert the set back to a list\n",
        "filtered_links = list(filtered_links)\n",
        "\n",
        "print(f\"Filtered down to {len(filtered_links)} unique links containing '/ik'.\")"
      ],
      "execution_count": 15,
      "outputs": [
        {
          "output_type": "stream",
          "name": "stdout",
          "text": [
            "Found 732 initial links.\n",
            "Found a total of 7739 links after crawling initial pages.\n",
            "Filtered down to 1373 unique links containing '/ik'.\n"
          ]
        }
      ]
    },
    {
      "cell_type": "markdown",
      "metadata": {
        "id": "bd61a539"
      },
      "source": [
        "## Filter urls\n",
        "\n",
        "### Subtask:\n",
        "Filter the collected links to keep only those containing \"/ik\" in their absolute URL.\n"
      ]
    },
    {
      "cell_type": "markdown",
      "metadata": {
        "id": "c7959f06"
      },
      "source": [
        "**Reasoning**:\n",
        "Filter the collected links to keep only those containing \"/ik\" in their absolute URL by iterating through the links, constructing absolute URLs, checking for the substring, and storing filtered links in a new list.\n",
        "\n"
      ]
    },
    {
      "cell_type": "markdown",
      "metadata": {
        "id": "c67da115"
      },
      "source": [
        "## Scrape text\n",
        "\n",
        "### Subtask:\n",
        "Scrape the text content from the filtered URLs.\n"
      ]
    },
    {
      "cell_type": "markdown",
      "metadata": {
        "id": "1fbf6c82"
      },
      "source": [
        "**Reasoning**:\n",
        "Scrape the text content from the filtered URLs and store it in a list.\n",
        "\n"
      ]
    },
    {
      "cell_type": "code",
      "metadata": {
        "colab": {
          "base_uri": "https://localhost:8080/"
        },
        "id": "97a24fef",
        "outputId": "88f2cce1-c754-49a3-967a-d80ed3e643ec"
      },
      "source": [
        "scraped_texts = []\n",
        "for url in filtered_links:\n",
        "    try:\n",
        "        response = requests.get(url)\n",
        "        response.raise_for_status()  # Raise an exception for bad status codes\n",
        "        soup = BeautifulSoup(response.text, 'html.parser')\n",
        "        text = soup.get_text()\n",
        "        scraped_texts.append(text)\n",
        "    except requests.exceptions.RequestException as e:\n",
        "        print(f\"Error fetching {url}: {e}\")\n",
        "        scraped_texts.append(None) # Append None for failed requests\n",
        "\n",
        "print(f\"Scraped text from {len(scraped_texts)} links.\")"
      ],
      "execution_count": 30,
      "outputs": [
        {
          "output_type": "stream",
          "name": "stdout",
          "text": [
            "Scraped text from 1373 links.\n"
          ]
        }
      ]
    },
    {
      "cell_type": "markdown",
      "metadata": {
        "id": "cff381e9"
      },
      "source": [
        "## Detect language\n",
        "\n",
        "### Subtask:\n",
        "Detect the language of the scraped text using an appropriate library.\n"
      ]
    },
    {
      "cell_type": "markdown",
      "metadata": {
        "id": "4ca28963"
      },
      "source": [
        "**Reasoning**:\n",
        "Iterate through the scraped texts, detect the language of each non-None entry, and store the language codes in a list.\n",
        "\n"
      ]
    },
    {
      "cell_type": "code",
      "metadata": {
        "colab": {
          "base_uri": "https://localhost:8080/"
        },
        "id": "45a6aed6",
        "outputId": "921cbf5a-f507-4a5d-fc28-e7f663da16c8"
      },
      "source": [
        "from langdetect import detect, DetectorFactory\n",
        "\n",
        "# Set seed for reproducibility\n",
        "DetectorFactory.seed = 0\n",
        "\n",
        "detected_languages = []\n",
        "for text in scraped_texts:\n",
        "    if text is not None:\n",
        "        try:\n",
        "            lang = detect(text)\n",
        "            detected_languages.append(lang)\n",
        "        except:\n",
        "            detected_languages.append(None)\n",
        "    else:\n",
        "        detected_languages.append(None)\n",
        "\n",
        "print(f\"Detected languages for {len(detected_languages)} texts.\")"
      ],
      "execution_count": 18,
      "outputs": [
        {
          "output_type": "stream",
          "name": "stdout",
          "text": [
            "Detected languages for 1373 texts.\n"
          ]
        }
      ]
    },
    {
      "cell_type": "markdown",
      "metadata": {
        "id": "d88b1b22"
      },
      "source": [
        "**Reasoning**:\n",
        "The previous command failed because the `langdetect` library is not installed. Install the library using pip.\n",
        "\n"
      ]
    },
    {
      "cell_type": "code",
      "metadata": {
        "colab": {
          "base_uri": "https://localhost:8080/"
        },
        "id": "L6kWBEMOwq9t",
        "outputId": "f679e494-2246-4d91-8373-1fb441012c39"
      },
      "source": [
        "!pip install langdetect"
      ],
      "execution_count": 19,
      "outputs": [
        {
          "output_type": "stream",
          "name": "stdout",
          "text": [
            "Requirement already satisfied: langdetect in /usr/local/lib/python3.11/dist-packages (1.0.9)\n",
            "Requirement already satisfied: six in /usr/local/lib/python3.11/dist-packages (from langdetect) (1.17.0)\n"
          ]
        }
      ]
    },
    {
      "cell_type": "markdown",
      "metadata": {
        "id": "bd122507"
      },
      "source": [
        "**Reasoning**:\n",
        "Now that the `langdetect` library is installed, retry detecting the language of the scraped texts as originally planned.\n",
        "\n"
      ]
    },
    {
      "cell_type": "code",
      "metadata": {
        "colab": {
          "base_uri": "https://localhost:8080/"
        },
        "id": "c49d4564",
        "outputId": "d99692f7-f090-44ed-bff1-3ab19a2ba16c"
      },
      "source": [
        "from langdetect import detect, DetectorFactory\n",
        "\n",
        "# Set seed for reproducibility\n",
        "DetectorFactory.seed = 0\n",
        "\n",
        "detected_languages = []\n",
        "for text in scraped_texts:\n",
        "    if text is not None:\n",
        "        try:\n",
        "            lang = detect(text)\n",
        "            detected_languages.append(lang)\n",
        "        except:\n",
        "            detected_languages.append(None)\n",
        "    else:\n",
        "        detected_languages.append(None)\n",
        "\n",
        "print(f\"Detected languages for {len(detected_languages)} texts.\")"
      ],
      "execution_count": 38,
      "outputs": [
        {
          "output_type": "stream",
          "name": "stdout",
          "text": [
            "Detected languages for 1373 texts.\n"
          ]
        }
      ]
    },
    {
      "cell_type": "code",
      "metadata": {
        "colab": {
          "base_uri": "https://localhost:8080/"
        },
        "id": "c1ff785e",
        "outputId": "20758fd0-deff-415e-b73c-e2d3b1a2c79b"
      },
      "source": [
        "from urllib.parse import urljoin\n",
        "\n",
        "# Use a set to store unique filtered links\n",
        "filtered_links = set()\n",
        "for link in all_links:  # Use all_links instead of links\n",
        "    absolute_url = urljoin(thuisarts_url, link)\n",
        "    if \"/ik\" in absolute_url:\n",
        "        filtered_links.add(absolute_url)\n",
        "\n",
        "# Convert the set back to a list if needed for subsequent steps\n",
        "filtered_links = list(filtered_links)\n",
        "\n",
        "print(f\"Filtered down to {len(filtered_links)} unique links containing '/ik'.\")"
      ],
      "execution_count": 31,
      "outputs": [
        {
          "output_type": "stream",
          "name": "stdout",
          "text": [
            "Filtered down to 1373 unique links containing '/ik'.\n"
          ]
        }
      ]
    },
    {
      "cell_type": "markdown",
      "metadata": {
        "id": "3b920c99"
      },
      "source": [
        "## Generate posts\n",
        "\n",
        "### Subtask:\n",
        "For each URL and its corresponding text, generate a post using the `gpt-4o-mini` model via the OpenAI API.\n"
      ]
    },
    {
      "cell_type": "markdown",
      "metadata": {
        "id": "85ebd7a0"
      },
      "source": [
        "**Reasoning**:\n",
        "Generate a post for each URL and its corresponding text using the OpenAI API.\n",
        "\n"
      ]
    },
    {
      "cell_type": "code",
      "metadata": {
        "colab": {
          "base_uri": "https://localhost:8080/"
        },
        "id": "92570acf",
        "outputId": "527bb5a6-70b3-4d7a-a2a9-102318bb1ee3"
      },
      "source": [
        "from openai import OpenAI\n",
        "import time\n",
        "\n",
        "# Initialize OpenAI client\n",
        "client = OpenAI()\n",
        "\n",
        "generated_posts = []\n",
        "chunk_size = 50  # Define the size of each chunk\n",
        "\n",
        "# Process links in chunks\n",
        "for i in range(0, len(filtered_links), chunk_size):\n",
        "    chunk_urls = filtered_links[i:i + chunk_size]\n",
        "    chunk_texts = scraped_texts[i:i + chunk_size]\n",
        "\n",
        "    for url, text in zip(chunk_urls, chunk_texts):\n",
        "        if text is None:\n",
        "            generated_posts.append(None)\n",
        "            continue\n",
        "\n",
        "        try:\n",
        "            prompt = f\"Generate a concise summary of the following text, maximum 2000 characters, Do not make up information, it must be appropriate for patients and educational purposes and suitable for social media: {text[:1500]}\" # Limit text to avoid exceeding token limits\n",
        "            response = client.chat.completions.create(\n",
        "                model=\"gpt-4o-mini\",\n",
        "                messages=[\n",
        "                    {\"role\": \"user\", \"content\": prompt}\n",
        "                ]\n",
        "            )\n",
        "            post_content = response.choices[0].message.content\n",
        "            generated_posts.append(post_content)\n",
        "        except Exception as e:\n",
        "            print(f\"Error generating post for {url}: {e}\")\n",
        "            generated_posts.append(None)\n",
        "\n",
        "    print(f\"Processed chunk {i // chunk_size + 1}/{(len(filtered_links) + chunk_size - 1) // chunk_size}\")\n",
        "    # Add a small delay between chunks to respect rate limits\n",
        "    time.sleep(5) # Adjust sleep time as needed\n",
        "\n",
        "print(f\"Attempted to generate posts for {len(generated_posts)} links.\")"
      ],
      "execution_count": 54,
      "outputs": [
        {
          "output_type": "stream",
          "name": "stdout",
          "text": [
            "Processed chunk 1/28\n",
            "Processed chunk 2/28\n",
            "Processed chunk 3/28\n",
            "Processed chunk 4/28\n",
            "Processed chunk 5/28\n",
            "Processed chunk 6/28\n",
            "Processed chunk 7/28\n",
            "Processed chunk 8/28\n",
            "Processed chunk 9/28\n",
            "Processed chunk 10/28\n",
            "Processed chunk 11/28\n",
            "Processed chunk 12/28\n",
            "Processed chunk 13/28\n",
            "Processed chunk 14/28\n",
            "Processed chunk 15/28\n",
            "Processed chunk 16/28\n",
            "Processed chunk 17/28\n",
            "Processed chunk 18/28\n",
            "Processed chunk 19/28\n",
            "Processed chunk 20/28\n",
            "Processed chunk 21/28\n",
            "Processed chunk 22/28\n",
            "Processed chunk 23/28\n",
            "Processed chunk 24/28\n",
            "Processed chunk 25/28\n",
            "Processed chunk 26/28\n",
            "Processed chunk 27/28\n",
            "Processed chunk 28/28\n",
            "Attempted to generate posts for 1373 links.\n"
          ]
        }
      ]
    },
    {
      "cell_type": "markdown",
      "metadata": {
        "id": "c036fa40"
      },
      "source": [
        "## Save as csv\n",
        "\n",
        "### Subtask:\n",
        "Save the original URLs, scraped text, detected language, and generated posts into a CSV file.\n"
      ]
    },
    {
      "cell_type": "markdown",
      "metadata": {
        "id": "927ee5ef"
      },
      "source": [
        "**Reasoning**:\n",
        "Import the pandas library and create a DataFrame from the lists, then save it to a CSV file.\n",
        "\n"
      ]
    },
    {
      "cell_type": "code",
      "metadata": {
        "colab": {
          "base_uri": "https://localhost:8080/"
        },
        "id": "afef3fa8",
        "outputId": "d28bb279-3feb-4f99-97c1-2a85d5ba4e45"
      },
      "source": [
        "import pandas as pd\n",
        "\n",
        "# Create a DataFrame using data from the first 10 links\n",
        "df = pd.DataFrame({\n",
        "    'URL': filtered_links[:len(generated_posts)],\n",
        "    'Scraped Text': scraped_texts[:len(generated_posts)],\n",
        "    'Detected Language': detected_languages[:len(generated_posts)],\n",
        "    'Generated Post': generated_posts\n",
        "})\n",
        "\n",
        "# Save the DataFrame to a CSV file\n",
        "csv_filename = 'thuisarts_posts.csv'\n",
        "df.to_csv(csv_filename, index=False)\n",
        "\n",
        "print(f\"Data saved to {csv_filename}\")"
      ],
      "execution_count": 56,
      "outputs": [
        {
          "output_type": "stream",
          "name": "stdout",
          "text": [
            "Data saved to thuisarts_posts.csv\n"
          ]
        }
      ]
    },
    {
      "cell_type": "markdown",
      "metadata": {
        "id": "69659b89"
      },
      "source": [
        "**Reasoning**:\n",
        "Import the zipfile module, create a ZipFile object, add the CSV file to the archive, close the archive, and print a confirmation message.\n",
        "\n"
      ]
    },
    {
      "cell_type": "code",
      "metadata": {
        "colab": {
          "base_uri": "https://localhost:8080/",
          "height": 1000
        },
        "id": "461937f6",
        "outputId": "7e69889b-5b5e-4d33-e79b-11ce7c382e05"
      },
      "source": [
        "import pandas as pd\n",
        "pd.set_option('display.max_colwidth', None)\n",
        "display(df['Generated Post'])"
      ],
      "execution_count": 55,
      "outputs": [
        {
          "output_type": "display_data",
          "data": {
            "text/plain": [
              "0                                                                                                                                                                                                                                                                                                                                                                                                                                                                                                                                                                                                                                                                                                                                                                                                                            Borstvoeding is een gezonde keuze voor zowel moeder als baby, zelfs als je astma hebt. De meeste astma-medicijnen die je inademt, komen nauwelijks in de borstvoeding terecht, waardoor het veilig is om borstvoeding te geven. Je baby kan een klein beetje van het medicijn binnenkrijgen, maar dit is doorgaans niet schadelijk. \\n\\nAls je twijfels of vragen hebt over je astma-medicijnen en borstvoeding, is het belangrijk om een afspraak te maken met je arts voor advies. Neem direct contact op met je arts als je een astma-aanval ervaart. \\n\\nVoor meer informatie over borstvoeding en astma, raadpleeg een gezondheidsprofessional.\n",
              "1                                                                                                                                                                                                                                                                                                                                                                                                                                                                                                                                                                                                                                                                                                                               Flauwvallen is het gevolg van een tijdelijke vermindering van bloedtoevoer naar de hersenen. Dit kan veroorzaakt worden door factoren zoals angst, pijn, langdurig staan, snel opstaan of door het plassen. Wanneer je voelt dat je bijna flauwvalt, help je jezelf door je benen kruiselings te plaatsen, je beenspieren aan te spannen, of zittend met je hoofd tussen je knieën te hangen. \\n\\nHoewel flauwvallen vaak onschuldig is, is het belangrijk om alert te zijn op eventuele ernstige symptomen. Raadpleeg altijd een arts als je terugkerende flauwvalepisodes hebt of als je naast flauwvallen ook andere verontrustende klachten ervaart. \\n\\nZorg goed voor je gezondheid en weet wanneer je professionele hulp moet inschakelen.\n",
              "2                                                                                                                                                                                                                                                                                                                                                                                                                                                                                                                                                                                                                                                                                                                    **Blaasontsteking bij Mannen: Wat Je Moet Weten**\\n\\nEen blaasontsteking, of cystitis, kan bij mannen ongemakken veroorzaken. Je ervaart vaak pijn tijdens het plassen en moet frequent kleine hoeveelheden urine laten. Het is belangrijk om contact op te nemen met je huisarts of de huisartsen-spoedpost als je deze symptomen hebt, en probeer dezelfde dag nog urine in te leveren voor onderzoek.\\n\\nBelangrijk om te weten: mannen met een blaasontsteking hebben altijd medicatie nodig om de infectie te behandelen. Let op dat sommige symptomen van een blaasontsteking ook kunnen wijzen op een soa (seksueel overdraagbare aandoening), dus tijdige medische hulp is cruciaal.\\n\\nZorg voor je gezondheid en aarzel niet om hulp in te roepen!\n",
              "3                                                                                                                                                                                                                                                                                                                                                                                                                                                                                                                                                                               Als je bent aangemeld bij de geestelijke gezondheidszorg (ggz) via je huisarts, start het proces met een beoordeling door de ggz-organisatie om te bepalen of zij je kunnen helpen. Als dit het geval is, krijg je gesprekken waarbij je een vertrouwd persoon kunt meenemen. Tijdens deze gesprekken bespreek je je klachten en behoeften. Soms krijg je ook vragenlijsten om in te vullen.\\n\\nDe behandelaar legt uit welke behandelingsmogelijkheden er zijn en helpt je een keuze te maken die het beste bij je past. Vraag om meer informatie als je twijfelt of onzeker bent. Onthoud dat de ggz er is om je te ondersteunen in je herstel. Als je het gevoel hebt dat er iets niet goed gaat of als je vragen hebt, aarzel dan niet om de ggz te bellen voor verdere begeleiding. \\n\\nVoor meer gedetailleerde informatie kun je altijd bij betrouwbare bronnen zoals Thuisarts.nl kijken.\n",
              "4                                                                                                                                                                                                                                                                                                                                                                                                                                                                                                                                                                                                                                                                                                                                          Pijn aan een pees ontstaat meestal door overbelasting en is vaak geen gevolg van een ontsteking. Het is belangrijk om het aangedane lichaamsdeel rust te geven, terwijl je toch blijft bewegen om de kracht van de spieren geleidelijk op te bouwen. Voor pijnverlichting kan paracetamol worden ingenomen. \\n\\nBelangrijkste aandachtspunten:\\n- Overbelasting is de meest voorkomende oorzaak van peespijn.\\n- Neem voldoende rust maar blijf actief om spierkracht te bevorderen.\\n- Bij aanhoudende of ernstige pijn is het aan te raden om contact op te nemen met een arts.\\n\\nVoor meer informatie en adviezen over specifieke pezen, kunt u Thuisarts.nl raadplegen. Blijf goed voor jezelf zorgen en luister naar je lichaam!\n",
              "5                                                                                                         Bij kanker kunnen patiënten pijn ervaren en er zijn meerdere behandelingsopties beschikbaar. Pijnbestrijding is essentieel voor kwaliteit van leven. Patiënten kunnen kiezen uit verschillende behandelingen, waaronder pijnstillers, therapieën om zenuwpijn te verlichten, en ondersteuning voor psychische klachten.\\n\\nBelangrijk is om te communiceren met je zorgverlener als je pijn ervaart. Tijdig contact met je arts kan helpen bij het kiezen van de juiste behandeling. Pijnstillers zoals opioïden of andere medicatie kunnen effectief zijn, maar het is cruciaal om de bijwerkingen en dosering goed te bespreken.\\n\\nVoorts zijn er behandelingen gericht op het verkleinen van de tumor, wat ook kan helpen bij het verminderen van pijn. Daarnaast is emotionele en psychologische ondersteuning essentieel, en kan het inschakelen van professionals hierbij een belangrijke rol spelen.\\n\\nIn de laatste fase van het leven kan palliatieve zorg helpen om de pijn en het lijden te verlichten. Dit is een cruciaal onderdeel van de zorg voor patiënten met kanker.\\n\\nVoor meer informatie en hulpmiddelen, inclusief keuzekaarten en hulp bij beslissingen, is Thuisarts.nl een betrouwbare bron. Het is belangrijk om samen met zorgverleners de beste behandeling voor pijn te vinden, afgestemd op persoonlijke behoeften en omstandigheden.\n",
              "6                                                                                                                     Pijn in de onderbuik en het bekken kan voor vrouwen langdurig zijn en is vaak van onbekende oorzaak. Belangrijke stappen om te nemen zijn:\\n\\n1. **Oorzaken**: Er kunnen verschillende redenen zijn voor deze pijn, variërend van spier- of gewrichtsproblemen tot gynaecologische aandoeningen.\\n\\n2. **Adviezen**: Het is cruciaal om een zorgverlener te raadplegen voor een juiste diagnose. Zelfzorg en geruststelling zijn ook belangrijk.\\n\\n3. **Behandelingsopties**:\\n   - **Bekkenfysiotherapie**: Kan helpen om de spieren rondom het bekken te versterken en pijn te verlichten.\\n   - **Psychologisch advies**: Een psycholoog of seksuoloog kan ondersteuning bieden als er psychologische factoren spelen.\\n   - **Zenuwbehandelingen**: Dit kan het 'uitzetten' of prikkelen van zenuwen omvatten voor pijnverlichting.\\n   - **Medicijnen**: Pijnstillers of andere medicijnen kunnen worden voorgeschreven afhankelijk van de oorzaak.\\n   - **Combinatietherapieën**: Soms zijn meerdere behandelingen tegelijk nodig voor optimale resultaten.\\n\\n4. **Toekomstige stappen**: Na de behandeling is het belangrijk om de voortgang te volgen en eventueel aanvullende hulp te zoeken als de pijn aanhoudt.\\n\\nBij aanhoudende klachten, is tijdig medisch advies van groot belang voor de juiste aanpak en verbetering van je situatie.\n",
              "7                                                                                                                                                                                    **Medicijnen die de maag kunnen beschadigen: Belangrijke informatie**\\n\\nSommige medicijnen, vooral NSAID's zoals ibuprofen, naproxen en diclofenac, kunnen maagproblemen veroorzaken, zoals zweren, bloedingen of perforaties. Het risico is groter bij langdurig gebruik en in hogere doses. Andere medicijnen die schadelijk kunnen zijn voor de maag zijn:\\n\\n- **Medicijnen tegen botontkalking**: Deze kunnen de maagmucosa irriteren.\\n- **Kaliumchloride**: Dit kan ook maagproblemen veroorzaken.\\n- **Andere medicijnen**: Vergeet niet dat sommige andere medicaties mogelijk ook een negatief effect op de maag kunnen hebben.\\n\\nHet is belangrijk om alert te zijn op symptomen zoals aanhoudende buikpijn, braken, of zwarte ontlasting, en om contact op te nemen met uw huisarts als u deze ervaart. Bespreek ook altijd met uw arts of apotheker welke medicaties u gebruikt en of ze potentieel schadelijk zijn voor uw maag. \\n\\nInformeer naar mogelijke alternatieven of beschermende medicijnen, zoals maagbeschermers, om uw maag te beschermen tijdens het gebruik van deze geneesmiddelen.\\n\\nVoor meer betrouwbare informatie over medicijnen en hun bijwerkingen, bezoek Thuisarts.nl. Blijf goed voor uw gezondheid zorgen en wees alert op uw medicijngebruik!\n",
              "8                                                                   **Trombosebeen: Wat te Weten**\\n\\nEen trombosebeen kan zich aandienen met symptomen zoals een dik, warm, pijnlijk onderbeen dat rood of donkerder van kleur is. Dit kan duiden op een bloedprop in een ader, wat trombose wordt genoemd. Het is belangrijk om bij deze klachten contact op te nemen met je huisarts of de huisartsen-spoedpost.\\n\\n**Wat is Trombose?**\\nTrombose is de vorming van een bloedprop in een ader, die de bloedstroom kan blokkeren. Dit kan leiden tot ernstige gezondheidsproblemen, dus vroegtijdige herkenning en behandeling zijn cruciaal.\\n\\n**Symptomen**\\n- Dikte en zwelling van het onderbeen\\n- Warmte en pijn\\n- Verkleuring (rood of donkerder)\\n\\n**Oorzaken en Risicofactoren**\\nBepaalde factoren verhogen het risico op trombose, zoals langdurig zitten, roken, overgewicht, en bepaalde medische aandoeningen.\\n\\n**Onderzoek en Behandeling**\\nEen arts kan een diagnose stellen aan de hand van je symptomen en mogelijk aanvullende onderzoeken. De behandeling bestaat doorgaans uit bloedverdunners om de bloedprop te verhelpen en verdere complicaties te voorkomen.\\n\\n**Actie Nodig**\\nBij de genoemde symptomen is het dringend aan te raden om je huisarts te bellen. Snelle hulp kan ernstige gevolgen voorkomen.\\n\\nVoor meer gedetailleerde informatie, bezoek de website van Thuisarts.nl. \\n\\nZorg goed voor jezelf en neem klachten serieus!\n",
              "9    **Stijve Schouder met Pijn (Frozen Shoulder)**\\n\\nEen stijve schouder, ook wel bekend als frozen shoulder, is een aandoening die begint met hevige pijn in de schouder, gevolgd door een verminderde beweeglijkheid. Dit kan het dagelijks leven aanzienlijk beïnvloeden.\\n\\n**Wat Merk Je?**\\nIn de beginfase ervaar je veel pijn, vooral bij beweging, wat later leidt tot stijfheid van de schouder. \\n\\n**Oorzaken**  \\nDe exacte oorzaak is vaak onbekend, maar het kan verband houden met blessures, langdurige immobilisatie of andere medische aandoeningen.\\n\\n**Onderzoeken**  \\nEen arts kan diagnoses stellen door het onderzoeken van je schouder en het vragen naar je symptomen. Soms kunnen beeldvormende onderzoeken nodig zijn.\\n\\n**Adviezen**  \\nHet is cruciaal om je schouder in beweging te houden. Regelmatige oefeningen kunnen helpen om de functie en flexibiliteit te verbeteren. \\n\\n**Behandeling**  \\nNaast beweging kunnen pijnstillers of een injectie met cortisol helpen om de pijn te verlichten. Fysiotherapie wordt vaak aanbevolen voor verdere verbetering van de mobiliteit.\\n\\n**Hoe Gaat Het Verder?**  \\nMet de juiste behandeling en oefening herstellen de meeste mensen in de loop van de tijd, hoewel het herstel enkele maanden kan duren.\\n\\nVoor meer gedetailleerde informatie, behandelingsopties en oefeningen, raadpleeg betrouwbare gezondheidsbronnen of spreek met je arts. Blijf actief en zorg voor je schouder!\n",
              "Name: Generated Post, dtype: object"
            ],
            "text/html": [
              "<div>\n",
              "<style scoped>\n",
              "    .dataframe tbody tr th:only-of-type {\n",
              "        vertical-align: middle;\n",
              "    }\n",
              "\n",
              "    .dataframe tbody tr th {\n",
              "        vertical-align: top;\n",
              "    }\n",
              "\n",
              "    .dataframe thead th {\n",
              "        text-align: right;\n",
              "    }\n",
              "</style>\n",
              "<table border=\"1\" class=\"dataframe\">\n",
              "  <thead>\n",
              "    <tr style=\"text-align: right;\">\n",
              "      <th></th>\n",
              "      <th>Generated Post</th>\n",
              "    </tr>\n",
              "  </thead>\n",
              "  <tbody>\n",
              "    <tr>\n",
              "      <th>0</th>\n",
              "      <td>Borstvoeding is een gezonde keuze voor zowel moeder als baby, zelfs als je astma hebt. De meeste astma-medicijnen die je inademt, komen nauwelijks in de borstvoeding terecht, waardoor het veilig is om borstvoeding te geven. Je baby kan een klein beetje van het medicijn binnenkrijgen, maar dit is doorgaans niet schadelijk. \\n\\nAls je twijfels of vragen hebt over je astma-medicijnen en borstvoeding, is het belangrijk om een afspraak te maken met je arts voor advies. Neem direct contact op met je arts als je een astma-aanval ervaart. \\n\\nVoor meer informatie over borstvoeding en astma, raadpleeg een gezondheidsprofessional.</td>\n",
              "    </tr>\n",
              "    <tr>\n",
              "      <th>1</th>\n",
              "      <td>Flauwvallen is het gevolg van een tijdelijke vermindering van bloedtoevoer naar de hersenen. Dit kan veroorzaakt worden door factoren zoals angst, pijn, langdurig staan, snel opstaan of door het plassen. Wanneer je voelt dat je bijna flauwvalt, help je jezelf door je benen kruiselings te plaatsen, je beenspieren aan te spannen, of zittend met je hoofd tussen je knieën te hangen. \\n\\nHoewel flauwvallen vaak onschuldig is, is het belangrijk om alert te zijn op eventuele ernstige symptomen. Raadpleeg altijd een arts als je terugkerende flauwvalepisodes hebt of als je naast flauwvallen ook andere verontrustende klachten ervaart. \\n\\nZorg goed voor je gezondheid en weet wanneer je professionele hulp moet inschakelen.</td>\n",
              "    </tr>\n",
              "    <tr>\n",
              "      <th>2</th>\n",
              "      <td>**Blaasontsteking bij Mannen: Wat Je Moet Weten**\\n\\nEen blaasontsteking, of cystitis, kan bij mannen ongemakken veroorzaken. Je ervaart vaak pijn tijdens het plassen en moet frequent kleine hoeveelheden urine laten. Het is belangrijk om contact op te nemen met je huisarts of de huisartsen-spoedpost als je deze symptomen hebt, en probeer dezelfde dag nog urine in te leveren voor onderzoek.\\n\\nBelangrijk om te weten: mannen met een blaasontsteking hebben altijd medicatie nodig om de infectie te behandelen. Let op dat sommige symptomen van een blaasontsteking ook kunnen wijzen op een soa (seksueel overdraagbare aandoening), dus tijdige medische hulp is cruciaal.\\n\\nZorg voor je gezondheid en aarzel niet om hulp in te roepen!</td>\n",
              "    </tr>\n",
              "    <tr>\n",
              "      <th>3</th>\n",
              "      <td>Als je bent aangemeld bij de geestelijke gezondheidszorg (ggz) via je huisarts, start het proces met een beoordeling door de ggz-organisatie om te bepalen of zij je kunnen helpen. Als dit het geval is, krijg je gesprekken waarbij je een vertrouwd persoon kunt meenemen. Tijdens deze gesprekken bespreek je je klachten en behoeften. Soms krijg je ook vragenlijsten om in te vullen.\\n\\nDe behandelaar legt uit welke behandelingsmogelijkheden er zijn en helpt je een keuze te maken die het beste bij je past. Vraag om meer informatie als je twijfelt of onzeker bent. Onthoud dat de ggz er is om je te ondersteunen in je herstel. Als je het gevoel hebt dat er iets niet goed gaat of als je vragen hebt, aarzel dan niet om de ggz te bellen voor verdere begeleiding. \\n\\nVoor meer gedetailleerde informatie kun je altijd bij betrouwbare bronnen zoals Thuisarts.nl kijken.</td>\n",
              "    </tr>\n",
              "    <tr>\n",
              "      <th>4</th>\n",
              "      <td>Pijn aan een pees ontstaat meestal door overbelasting en is vaak geen gevolg van een ontsteking. Het is belangrijk om het aangedane lichaamsdeel rust te geven, terwijl je toch blijft bewegen om de kracht van de spieren geleidelijk op te bouwen. Voor pijnverlichting kan paracetamol worden ingenomen. \\n\\nBelangrijkste aandachtspunten:\\n- Overbelasting is de meest voorkomende oorzaak van peespijn.\\n- Neem voldoende rust maar blijf actief om spierkracht te bevorderen.\\n- Bij aanhoudende of ernstige pijn is het aan te raden om contact op te nemen met een arts.\\n\\nVoor meer informatie en adviezen over specifieke pezen, kunt u Thuisarts.nl raadplegen. Blijf goed voor jezelf zorgen en luister naar je lichaam!</td>\n",
              "    </tr>\n",
              "    <tr>\n",
              "      <th>5</th>\n",
              "      <td>Bij kanker kunnen patiënten pijn ervaren en er zijn meerdere behandelingsopties beschikbaar. Pijnbestrijding is essentieel voor kwaliteit van leven. Patiënten kunnen kiezen uit verschillende behandelingen, waaronder pijnstillers, therapieën om zenuwpijn te verlichten, en ondersteuning voor psychische klachten.\\n\\nBelangrijk is om te communiceren met je zorgverlener als je pijn ervaart. Tijdig contact met je arts kan helpen bij het kiezen van de juiste behandeling. Pijnstillers zoals opioïden of andere medicatie kunnen effectief zijn, maar het is cruciaal om de bijwerkingen en dosering goed te bespreken.\\n\\nVoorts zijn er behandelingen gericht op het verkleinen van de tumor, wat ook kan helpen bij het verminderen van pijn. Daarnaast is emotionele en psychologische ondersteuning essentieel, en kan het inschakelen van professionals hierbij een belangrijke rol spelen.\\n\\nIn de laatste fase van het leven kan palliatieve zorg helpen om de pijn en het lijden te verlichten. Dit is een cruciaal onderdeel van de zorg voor patiënten met kanker.\\n\\nVoor meer informatie en hulpmiddelen, inclusief keuzekaarten en hulp bij beslissingen, is Thuisarts.nl een betrouwbare bron. Het is belangrijk om samen met zorgverleners de beste behandeling voor pijn te vinden, afgestemd op persoonlijke behoeften en omstandigheden.</td>\n",
              "    </tr>\n",
              "    <tr>\n",
              "      <th>6</th>\n",
              "      <td>Pijn in de onderbuik en het bekken kan voor vrouwen langdurig zijn en is vaak van onbekende oorzaak. Belangrijke stappen om te nemen zijn:\\n\\n1. **Oorzaken**: Er kunnen verschillende redenen zijn voor deze pijn, variërend van spier- of gewrichtsproblemen tot gynaecologische aandoeningen.\\n\\n2. **Adviezen**: Het is cruciaal om een zorgverlener te raadplegen voor een juiste diagnose. Zelfzorg en geruststelling zijn ook belangrijk.\\n\\n3. **Behandelingsopties**:\\n   - **Bekkenfysiotherapie**: Kan helpen om de spieren rondom het bekken te versterken en pijn te verlichten.\\n   - **Psychologisch advies**: Een psycholoog of seksuoloog kan ondersteuning bieden als er psychologische factoren spelen.\\n   - **Zenuwbehandelingen**: Dit kan het 'uitzetten' of prikkelen van zenuwen omvatten voor pijnverlichting.\\n   - **Medicijnen**: Pijnstillers of andere medicijnen kunnen worden voorgeschreven afhankelijk van de oorzaak.\\n   - **Combinatietherapieën**: Soms zijn meerdere behandelingen tegelijk nodig voor optimale resultaten.\\n\\n4. **Toekomstige stappen**: Na de behandeling is het belangrijk om de voortgang te volgen en eventueel aanvullende hulp te zoeken als de pijn aanhoudt.\\n\\nBij aanhoudende klachten, is tijdig medisch advies van groot belang voor de juiste aanpak en verbetering van je situatie.</td>\n",
              "    </tr>\n",
              "    <tr>\n",
              "      <th>7</th>\n",
              "      <td>**Medicijnen die de maag kunnen beschadigen: Belangrijke informatie**\\n\\nSommige medicijnen, vooral NSAID's zoals ibuprofen, naproxen en diclofenac, kunnen maagproblemen veroorzaken, zoals zweren, bloedingen of perforaties. Het risico is groter bij langdurig gebruik en in hogere doses. Andere medicijnen die schadelijk kunnen zijn voor de maag zijn:\\n\\n- **Medicijnen tegen botontkalking**: Deze kunnen de maagmucosa irriteren.\\n- **Kaliumchloride**: Dit kan ook maagproblemen veroorzaken.\\n- **Andere medicijnen**: Vergeet niet dat sommige andere medicaties mogelijk ook een negatief effect op de maag kunnen hebben.\\n\\nHet is belangrijk om alert te zijn op symptomen zoals aanhoudende buikpijn, braken, of zwarte ontlasting, en om contact op te nemen met uw huisarts als u deze ervaart. Bespreek ook altijd met uw arts of apotheker welke medicaties u gebruikt en of ze potentieel schadelijk zijn voor uw maag. \\n\\nInformeer naar mogelijke alternatieven of beschermende medicijnen, zoals maagbeschermers, om uw maag te beschermen tijdens het gebruik van deze geneesmiddelen.\\n\\nVoor meer betrouwbare informatie over medicijnen en hun bijwerkingen, bezoek Thuisarts.nl. Blijf goed voor uw gezondheid zorgen en wees alert op uw medicijngebruik!</td>\n",
              "    </tr>\n",
              "    <tr>\n",
              "      <th>8</th>\n",
              "      <td>**Trombosebeen: Wat te Weten**\\n\\nEen trombosebeen kan zich aandienen met symptomen zoals een dik, warm, pijnlijk onderbeen dat rood of donkerder van kleur is. Dit kan duiden op een bloedprop in een ader, wat trombose wordt genoemd. Het is belangrijk om bij deze klachten contact op te nemen met je huisarts of de huisartsen-spoedpost.\\n\\n**Wat is Trombose?**\\nTrombose is de vorming van een bloedprop in een ader, die de bloedstroom kan blokkeren. Dit kan leiden tot ernstige gezondheidsproblemen, dus vroegtijdige herkenning en behandeling zijn cruciaal.\\n\\n**Symptomen**\\n- Dikte en zwelling van het onderbeen\\n- Warmte en pijn\\n- Verkleuring (rood of donkerder)\\n\\n**Oorzaken en Risicofactoren**\\nBepaalde factoren verhogen het risico op trombose, zoals langdurig zitten, roken, overgewicht, en bepaalde medische aandoeningen.\\n\\n**Onderzoek en Behandeling**\\nEen arts kan een diagnose stellen aan de hand van je symptomen en mogelijk aanvullende onderzoeken. De behandeling bestaat doorgaans uit bloedverdunners om de bloedprop te verhelpen en verdere complicaties te voorkomen.\\n\\n**Actie Nodig**\\nBij de genoemde symptomen is het dringend aan te raden om je huisarts te bellen. Snelle hulp kan ernstige gevolgen voorkomen.\\n\\nVoor meer gedetailleerde informatie, bezoek de website van Thuisarts.nl. \\n\\nZorg goed voor jezelf en neem klachten serieus!</td>\n",
              "    </tr>\n",
              "    <tr>\n",
              "      <th>9</th>\n",
              "      <td>**Stijve Schouder met Pijn (Frozen Shoulder)**\\n\\nEen stijve schouder, ook wel bekend als frozen shoulder, is een aandoening die begint met hevige pijn in de schouder, gevolgd door een verminderde beweeglijkheid. Dit kan het dagelijks leven aanzienlijk beïnvloeden.\\n\\n**Wat Merk Je?**\\nIn de beginfase ervaar je veel pijn, vooral bij beweging, wat later leidt tot stijfheid van de schouder. \\n\\n**Oorzaken**  \\nDe exacte oorzaak is vaak onbekend, maar het kan verband houden met blessures, langdurige immobilisatie of andere medische aandoeningen.\\n\\n**Onderzoeken**  \\nEen arts kan diagnoses stellen door het onderzoeken van je schouder en het vragen naar je symptomen. Soms kunnen beeldvormende onderzoeken nodig zijn.\\n\\n**Adviezen**  \\nHet is cruciaal om je schouder in beweging te houden. Regelmatige oefeningen kunnen helpen om de functie en flexibiliteit te verbeteren. \\n\\n**Behandeling**  \\nNaast beweging kunnen pijnstillers of een injectie met cortisol helpen om de pijn te verlichten. Fysiotherapie wordt vaak aanbevolen voor verdere verbetering van de mobiliteit.\\n\\n**Hoe Gaat Het Verder?**  \\nMet de juiste behandeling en oefening herstellen de meeste mensen in de loop van de tijd, hoewel het herstel enkele maanden kan duren.\\n\\nVoor meer gedetailleerde informatie, behandelingsopties en oefeningen, raadpleeg betrouwbare gezondheidsbronnen of spreek met je arts. Blijf actief en zorg voor je schouder!</td>\n",
              "    </tr>\n",
              "  </tbody>\n",
              "</table>\n",
              "</div><br><label><b>dtype:</b> object</label>"
            ]
          },
          "metadata": {}
        }
      ]
    },
    {
      "cell_type": "markdown",
      "metadata": {
        "id": "161c835f"
      },
      "source": [
        "# Task\n",
        "Create a pipeline that loads the OpenAI API key from Colab secrets, crawls the website \"https://www.thuisarts.nl/overzicht/onderwerpen\", collects only unique links whose absolute URL contains \"/ik\", scrapes the text content from these filtered links, detects the language of the scraped text, generates a concise post (maximum 2000 characters) for each URL using the `gpt-4o-mini` model, saves the original URLs, scraped text, and detected language as a CSV file, saves each generated post as a separate Markdown file, zips the CSV file and the directory containing the Markdown files, and saves the zipped archive(s) to Google Drive."
      ]
    },
    {
      "cell_type": "markdown",
      "metadata": {
        "id": "d4746e0b"
      },
      "source": [
        "## Save generated posts (markdown)\n",
        "\n",
        "### Subtask:\n",
        "Save each generated post as a separate Markdown file.\n"
      ]
    },
    {
      "cell_type": "markdown",
      "metadata": {
        "id": "91c4cb14"
      },
      "source": [
        "**Reasoning**:\n",
        "Create a directory to store the markdown files and then iterate through the generated posts and their corresponding URLs to create and save each post as a separate markdown file, handling potential `None` values.\n",
        "\n"
      ]
    },
    {
      "cell_type": "code",
      "metadata": {
        "colab": {
          "base_uri": "https://localhost:8080/"
        },
        "id": "8d6ae4ef",
        "outputId": "e1784cd1-d60b-4093-f942-c134cd8b01bb"
      },
      "source": [
        "import os\n",
        "import re\n",
        "\n",
        "# Create a directory for markdown files\n",
        "markdown_dir = 'generated_posts_md'\n",
        "os.makedirs(markdown_dir, exist_ok=True)\n",
        "\n",
        "# Iterate through generated posts and save them as markdown files\n",
        "for i, (url, post) in enumerate(zip(filtered_links[:len(generated_posts)], generated_posts)):\n",
        "    if post is not None:\n",
        "        # Create a safe filename from the URL or use an index\n",
        "        # Replace non-alphanumeric characters with underscores\n",
        "        safe_filename = re.sub(r'[^\\w.-]', '_', url)\n",
        "        # Limit filename length and add index to ensure uniqueness\n",
        "        filename = f\"{i}_{safe_filename[:50]}.md\"\n",
        "        filepath = os.path.join(markdown_dir, filename)\n",
        "\n",
        "        with open(filepath, 'w', encoding='utf-8') as f:\n",
        "            f.write(post)\n",
        "\n",
        "print(f\"Saved {len([post for post in generated_posts if post is not None])} generated posts as markdown files in '{markdown_dir}'\")"
      ],
      "execution_count": 57,
      "outputs": [
        {
          "output_type": "stream",
          "name": "stdout",
          "text": [
            "Saved 1373 generated posts as markdown files in 'generated_posts_md'\n"
          ]
        }
      ]
    },
    {
      "cell_type": "markdown",
      "metadata": {
        "id": "ffae64ed"
      },
      "source": [
        "## Zip files\n",
        "\n",
        "### Subtask:\n",
        "Zip the generated CSV file and the directory containing the Markdown files.\n"
      ]
    },
    {
      "cell_type": "markdown",
      "metadata": {
        "id": "7d645fb2"
      },
      "source": [
        "**Reasoning**:\n",
        "Import the zipfile and os modules, define the filenames and directory, create a zip archive, add the CSV file, iterate through the markdown files and add them to the archive, close the archive, and print a confirmation message.\n",
        "\n"
      ]
    },
    {
      "cell_type": "code",
      "metadata": {
        "colab": {
          "base_uri": "https://localhost:8080/"
        },
        "id": "88393e48",
        "outputId": "6969d375-2ecb-41ec-9a83-277ab84063b8"
      },
      "source": [
        "import zipfile\n",
        "import os\n",
        "\n",
        "# Define filenames and directory\n",
        "zip_filename = 'thuisarts_data.zip'\n",
        "csv_filename = 'thuisarts_posts.csv'\n",
        "markdown_dir = 'generated_posts_md'\n",
        "\n",
        "# Create a new zip archive\n",
        "with zipfile.ZipFile(zip_filename, 'w') as zipf:\n",
        "    # Add the CSV file\n",
        "    zipf.write(csv_filename)\n",
        "\n",
        "    # Add markdown files from the directory\n",
        "    for root, _, files in os.walk(markdown_dir):\n",
        "        for file in files:\n",
        "            file_path = os.path.join(root, file)\n",
        "            # Add file to zip, preserving directory structure\n",
        "            zipf.write(file_path, arcname=os.path.relpath(file_path, markdown_dir))\n",
        "\n",
        "\n",
        "print(f\"Created zip file: {zip_filename}\")"
      ],
      "execution_count": 58,
      "outputs": [
        {
          "output_type": "stream",
          "name": "stdout",
          "text": [
            "Created zip file: thuisarts_data.zip\n"
          ]
        }
      ]
    },
    {
      "cell_type": "markdown",
      "metadata": {
        "id": "4bb48b66"
      },
      "source": [
        "## Save to google drive\n",
        "\n",
        "### Subtask:\n",
        "Save the zipped archive(s) to Google Drive.\n"
      ]
    },
    {
      "cell_type": "markdown",
      "metadata": {
        "id": "045fe3e1"
      },
      "source": [
        "**Reasoning**:\n",
        "Import the necessary libraries, mount Google Drive, specify the destination path, and copy the zipped file to Google Drive.\n",
        "\n"
      ]
    },
    {
      "cell_type": "code",
      "metadata": {
        "colab": {
          "base_uri": "https://localhost:8080/"
        },
        "id": "070a186b",
        "outputId": "2b981f58-5003-4e83-a409-b6c8cc1b8279"
      },
      "source": [
        "from google.colab import drive\n",
        "import os\n",
        "import shutil\n",
        "\n",
        "# Mount Google Drive\n",
        "drive.mount('/content/drive')\n",
        "\n",
        "# Specify the destination path in Google Drive\n",
        "drive_destination_dir = '/content/drive/MyDrive/Thuisarts_Data'\n",
        "os.makedirs(drive_destination_dir, exist_ok=True)\n",
        "\n",
        "# Construct the full destination path\n",
        "zip_filename = 'thuisarts_data.zip'\n",
        "drive_destination_path = os.path.join(drive_destination_dir, zip_filename)\n",
        "\n",
        "# Copy the zipped file to Google Drive\n",
        "shutil.copy(zip_filename, drive_destination_path)\n",
        "\n",
        "# Print confirmation message\n",
        "print(f\"Zipped file saved to Google Drive at: {drive_destination_path}\")"
      ],
      "execution_count": 59,
      "outputs": [
        {
          "output_type": "stream",
          "name": "stdout",
          "text": [
            "Drive already mounted at /content/drive; to attempt to forcibly remount, call drive.mount(\"/content/drive\", force_remount=True).\n",
            "Zipped file saved to Google Drive at: /content/drive/MyDrive/Thuisarts_Data/thuisarts_data.zip\n"
          ]
        }
      ]
    },
    {
      "cell_type": "markdown",
      "metadata": {
        "id": "4de206fc"
      },
      "source": [
        "## Summary:\n",
        "\n",
        "### Data Analysis Key Findings\n",
        "\n",
        "*   Generated posts were saved as separate Markdown files in a newly created directory named `generated_posts_md`. Ten markdown files were successfully saved.\n",
        "*   A zip archive named `thuisarts_data.zip` was created, containing the `thuisarts_posts.csv` file and all Markdown files from the `generated_posts_md` directory, while preserving the directory structure within the zip.\n",
        "*   The created zip file (`thuisarts_data.zip`) was successfully copied to a specified directory (`/content/drive/MyDrive/Thuisarts_Data`) in Google Drive after mounting the drive.\n",
        "\n",
        "### Insights or Next Steps\n",
        "\n",
        "*   The pipeline successfully executed all steps from generating content to saving the final output in a structured format in Google Drive.\n",
        "*   Future steps could involve automating the execution of this pipeline on a schedule or extending the data collection to other sections of the website.\n"
      ]
    },
    {
      "cell_type": "markdown",
      "metadata": {
        "id": "0c73e332"
      },
      "source": [
        "# Task\n",
        "Create a Gradio application that takes generated posts from markdown files, allows the user to select a target social media platform (Instagram, Facebook, TikTok, YouTube) and a target language (English, French, Spanish), and then adapts and translates the post for the selected platform and language using a language model and transformers."
      ]
    },
    {
      "cell_type": "markdown",
      "metadata": {
        "id": "93372fcd"
      },
      "source": [
        "## Load generated posts (markdown)\n",
        "\n",
        "### Subtask:\n",
        "Load the generated posts from the saved Markdown files.\n"
      ]
    },
    {
      "cell_type": "markdown",
      "metadata": {
        "id": "1514b7b0"
      },
      "source": [
        "**Reasoning**:\n",
        "Load the generated posts from the saved Markdown files by iterating through the directory, reading each markdown file, and storing the content with the filename as a key.\n",
        "\n"
      ]
    },
    {
      "cell_type": "code",
      "metadata": {
        "colab": {
          "base_uri": "https://localhost:8080/"
        },
        "id": "c8108913",
        "outputId": "a695f046-4e78-4e99-fe1e-73068ff8a8b1"
      },
      "source": [
        "import os\n",
        "\n",
        "# Define the directory path where the markdown files are saved\n",
        "markdown_dir = 'generated_posts_md'\n",
        "\n",
        "# Initialize a dictionary to store the loaded posts\n",
        "loaded_posts = {}\n",
        "\n",
        "# Iterate through the files in the markdown directory\n",
        "for filename in os.listdir(markdown_dir):\n",
        "    if filename.endswith(\".md\"):\n",
        "        filepath = os.path.join(markdown_dir, filename)\n",
        "        with open(filepath, 'r', encoding='utf-8') as f:\n",
        "            post_content = f.read()\n",
        "            loaded_posts[filename] = post_content\n",
        "\n",
        "# Print the number of loaded markdown files\n",
        "print(f\"Loaded {len(loaded_posts)} markdown files.\")"
      ],
      "execution_count": 60,
      "outputs": [
        {
          "output_type": "stream",
          "name": "stdout",
          "text": [
            "Loaded 1373 markdown files.\n"
          ]
        }
      ]
    },
    {
      "cell_type": "markdown",
      "metadata": {
        "id": "88ef2926"
      },
      "source": [
        "## Set up gradio interface\n",
        "\n",
        "### Subtask:\n",
        "Install Gradio and create a user-friendly interface with input components for selecting a post, choosing a target social media platform, and selecting a target language (English, French, Spanish). Include an output component to display the adapted and translated post.\n"
      ]
    },
    {
      "cell_type": "markdown",
      "metadata": {
        "id": "cdd89f3d"
      },
      "source": [
        "**Reasoning**:\n",
        "Install the gradio library using pip.\n",
        "\n"
      ]
    },
    {
      "cell_type": "code",
      "metadata": {
        "colab": {
          "base_uri": "https://localhost:8080/"
        },
        "id": "405c074d",
        "outputId": "0284342c-3a65-4e27-de18-2dcd9796baa7"
      },
      "source": [
        "!pip install gradio transformers"
      ],
      "execution_count": 61,
      "outputs": [
        {
          "output_type": "stream",
          "name": "stdout",
          "text": [
            "Requirement already satisfied: gradio in /usr/local/lib/python3.11/dist-packages (5.42.0)\n",
            "Requirement already satisfied: transformers in /usr/local/lib/python3.11/dist-packages (4.55.0)\n",
            "Requirement already satisfied: aiofiles<25.0,>=22.0 in /usr/local/lib/python3.11/dist-packages (from gradio) (24.1.0)\n",
            "Requirement already satisfied: anyio<5.0,>=3.0 in /usr/local/lib/python3.11/dist-packages (from gradio) (4.10.0)\n",
            "Requirement already satisfied: brotli>=1.1.0 in /usr/local/lib/python3.11/dist-packages (from gradio) (1.1.0)\n",
            "Requirement already satisfied: fastapi<1.0,>=0.115.2 in /usr/local/lib/python3.11/dist-packages (from gradio) (0.116.1)\n",
            "Requirement already satisfied: ffmpy in /usr/local/lib/python3.11/dist-packages (from gradio) (0.6.1)\n",
            "Requirement already satisfied: gradio-client==1.11.1 in /usr/local/lib/python3.11/dist-packages (from gradio) (1.11.1)\n",
            "Requirement already satisfied: groovy~=0.1 in /usr/local/lib/python3.11/dist-packages (from gradio) (0.1.2)\n",
            "Requirement already satisfied: httpx<1.0,>=0.24.1 in /usr/local/lib/python3.11/dist-packages (from gradio) (0.28.1)\n",
            "Requirement already satisfied: huggingface-hub<1.0,>=0.33.5 in /usr/local/lib/python3.11/dist-packages (from gradio) (0.34.4)\n",
            "Requirement already satisfied: jinja2<4.0 in /usr/local/lib/python3.11/dist-packages (from gradio) (3.1.6)\n",
            "Requirement already satisfied: markupsafe<4.0,>=2.0 in /usr/local/lib/python3.11/dist-packages (from gradio) (3.0.2)\n",
            "Requirement already satisfied: numpy<3.0,>=1.0 in /usr/local/lib/python3.11/dist-packages (from gradio) (2.0.2)\n",
            "Requirement already satisfied: orjson~=3.0 in /usr/local/lib/python3.11/dist-packages (from gradio) (3.11.1)\n",
            "Requirement already satisfied: packaging in /usr/local/lib/python3.11/dist-packages (from gradio) (25.0)\n",
            "Requirement already satisfied: pandas<3.0,>=1.0 in /usr/local/lib/python3.11/dist-packages (from gradio) (2.2.2)\n",
            "Requirement already satisfied: pillow<12.0,>=8.0 in /usr/local/lib/python3.11/dist-packages (from gradio) (11.3.0)\n",
            "Requirement already satisfied: pydantic<2.12,>=2.0 in /usr/local/lib/python3.11/dist-packages (from gradio) (2.11.7)\n",
            "Requirement already satisfied: pydub in /usr/local/lib/python3.11/dist-packages (from gradio) (0.25.1)\n",
            "Requirement already satisfied: python-multipart>=0.0.18 in /usr/local/lib/python3.11/dist-packages (from gradio) (0.0.20)\n",
            "Requirement already satisfied: pyyaml<7.0,>=5.0 in /usr/local/lib/python3.11/dist-packages (from gradio) (6.0.2)\n",
            "Requirement already satisfied: ruff>=0.9.3 in /usr/local/lib/python3.11/dist-packages (from gradio) (0.12.8)\n",
            "Requirement already satisfied: safehttpx<0.2.0,>=0.1.6 in /usr/local/lib/python3.11/dist-packages (from gradio) (0.1.6)\n",
            "Requirement already satisfied: semantic-version~=2.0 in /usr/local/lib/python3.11/dist-packages (from gradio) (2.10.0)\n",
            "Requirement already satisfied: starlette<1.0,>=0.40.0 in /usr/local/lib/python3.11/dist-packages (from gradio) (0.47.2)\n",
            "Requirement already satisfied: tomlkit<0.14.0,>=0.12.0 in /usr/local/lib/python3.11/dist-packages (from gradio) (0.13.3)\n",
            "Requirement already satisfied: typer<1.0,>=0.12 in /usr/local/lib/python3.11/dist-packages (from gradio) (0.16.0)\n",
            "Requirement already satisfied: typing-extensions~=4.0 in /usr/local/lib/python3.11/dist-packages (from gradio) (4.14.1)\n",
            "Requirement already satisfied: uvicorn>=0.14.0 in /usr/local/lib/python3.11/dist-packages (from gradio) (0.35.0)\n",
            "Requirement already satisfied: fsspec in /usr/local/lib/python3.11/dist-packages (from gradio-client==1.11.1->gradio) (2025.3.0)\n",
            "Requirement already satisfied: websockets<16.0,>=10.0 in /usr/local/lib/python3.11/dist-packages (from gradio-client==1.11.1->gradio) (15.0.1)\n",
            "Requirement already satisfied: filelock in /usr/local/lib/python3.11/dist-packages (from transformers) (3.18.0)\n",
            "Requirement already satisfied: regex!=2019.12.17 in /usr/local/lib/python3.11/dist-packages (from transformers) (2024.11.6)\n",
            "Requirement already satisfied: requests in /usr/local/lib/python3.11/dist-packages (from transformers) (2.32.3)\n",
            "Requirement already satisfied: tokenizers<0.22,>=0.21 in /usr/local/lib/python3.11/dist-packages (from transformers) (0.21.4)\n",
            "Requirement already satisfied: safetensors>=0.4.3 in /usr/local/lib/python3.11/dist-packages (from transformers) (0.6.2)\n",
            "Requirement already satisfied: tqdm>=4.27 in /usr/local/lib/python3.11/dist-packages (from transformers) (4.67.1)\n",
            "Requirement already satisfied: idna>=2.8 in /usr/local/lib/python3.11/dist-packages (from anyio<5.0,>=3.0->gradio) (3.10)\n",
            "Requirement already satisfied: sniffio>=1.1 in /usr/local/lib/python3.11/dist-packages (from anyio<5.0,>=3.0->gradio) (1.3.1)\n",
            "Requirement already satisfied: certifi in /usr/local/lib/python3.11/dist-packages (from httpx<1.0,>=0.24.1->gradio) (2025.8.3)\n",
            "Requirement already satisfied: httpcore==1.* in /usr/local/lib/python3.11/dist-packages (from httpx<1.0,>=0.24.1->gradio) (1.0.9)\n",
            "Requirement already satisfied: h11>=0.16 in /usr/local/lib/python3.11/dist-packages (from httpcore==1.*->httpx<1.0,>=0.24.1->gradio) (0.16.0)\n",
            "Requirement already satisfied: hf-xet<2.0.0,>=1.1.3 in /usr/local/lib/python3.11/dist-packages (from huggingface-hub<1.0,>=0.33.5->gradio) (1.1.7)\n",
            "Requirement already satisfied: python-dateutil>=2.8.2 in /usr/local/lib/python3.11/dist-packages (from pandas<3.0,>=1.0->gradio) (2.9.0.post0)\n",
            "Requirement already satisfied: pytz>=2020.1 in /usr/local/lib/python3.11/dist-packages (from pandas<3.0,>=1.0->gradio) (2025.2)\n",
            "Requirement already satisfied: tzdata>=2022.7 in /usr/local/lib/python3.11/dist-packages (from pandas<3.0,>=1.0->gradio) (2025.2)\n",
            "Requirement already satisfied: annotated-types>=0.6.0 in /usr/local/lib/python3.11/dist-packages (from pydantic<2.12,>=2.0->gradio) (0.7.0)\n",
            "Requirement already satisfied: pydantic-core==2.33.2 in /usr/local/lib/python3.11/dist-packages (from pydantic<2.12,>=2.0->gradio) (2.33.2)\n",
            "Requirement already satisfied: typing-inspection>=0.4.0 in /usr/local/lib/python3.11/dist-packages (from pydantic<2.12,>=2.0->gradio) (0.4.1)\n",
            "Requirement already satisfied: click>=8.0.0 in /usr/local/lib/python3.11/dist-packages (from typer<1.0,>=0.12->gradio) (8.2.1)\n",
            "Requirement already satisfied: shellingham>=1.3.0 in /usr/local/lib/python3.11/dist-packages (from typer<1.0,>=0.12->gradio) (1.5.4)\n",
            "Requirement already satisfied: rich>=10.11.0 in /usr/local/lib/python3.11/dist-packages (from typer<1.0,>=0.12->gradio) (13.9.4)\n",
            "Requirement already satisfied: charset-normalizer<4,>=2 in /usr/local/lib/python3.11/dist-packages (from requests->transformers) (3.4.3)\n",
            "Requirement already satisfied: urllib3<3,>=1.21.1 in /usr/local/lib/python3.11/dist-packages (from requests->transformers) (2.5.0)\n",
            "Requirement already satisfied: six>=1.5 in /usr/local/lib/python3.11/dist-packages (from python-dateutil>=2.8.2->pandas<3.0,>=1.0->gradio) (1.17.0)\n",
            "Requirement already satisfied: markdown-it-py>=2.2.0 in /usr/local/lib/python3.11/dist-packages (from rich>=10.11.0->typer<1.0,>=0.12->gradio) (4.0.0)\n",
            "Requirement already satisfied: pygments<3.0.0,>=2.13.0 in /usr/local/lib/python3.11/dist-packages (from rich>=10.11.0->typer<1.0,>=0.12->gradio) (2.19.2)\n",
            "Requirement already satisfied: mdurl~=0.1 in /usr/local/lib/python3.11/dist-packages (from markdown-it-py>=2.2.0->rich>=10.11.0->typer<1.0,>=0.12->gradio) (0.1.2)\n"
          ]
        }
      ]
    },
    {
      "cell_type": "markdown",
      "metadata": {
        "id": "37a2e22c"
      },
      "source": [
        "**Reasoning**:\n",
        "Import the gradio library, define the choices for social media platforms and target languages, and create a Gradio interface with input components for selecting a post, target social media platform, and target language, and an output component to display the result.\n",
        "\n"
      ]
    },
    {
      "cell_type": "code",
      "metadata": {
        "id": "5f70cbb1"
      },
      "source": [
        "import gradio as gr\n",
        "\n",
        "# Define choices for social media platforms and target languages\n",
        "social_media_platforms = [\"Instagram\", \"Facebook\", \"TikTok\", \"YouTube\"]\n",
        "target_languages = [\"English\", \"French\", \"Spanish\"]\n",
        "\n",
        "# Get the filenames of the loaded posts\n",
        "post_filenames = list(loaded_posts.keys())\n",
        "\n",
        "# Create the Gradio interface\n",
        "with gr.Blocks() as demo:\n",
        "    gr.Markdown(\"# Social Media Post Adapter and Translator\")\n",
        "\n",
        "    with gr.Row():\n",
        "        post_selector = gr.Dropdown(\n",
        "            post_filenames, label=\"Select a Post\"\n",
        "        )\n",
        "        platform_selector = gr.Dropdown(\n",
        "            social_media_platforms, label=\"Select Target Platform\"\n",
        "        )\n",
        "        language_selector = gr.Dropdown(\n",
        "            target_languages, label=\"Select Target Language\"\n",
        "        )\n",
        "\n",
        "    output_post = gr.Textbox(label=\"Adapted and Translated Post\", lines=10)\n",
        "\n",
        "# The function to process the inputs and generate the output will be added in the next subtask.\n",
        "# For now, just launch the interface structure.\n",
        "# demo.launch()"
      ],
      "execution_count": 62,
      "outputs": []
    },
    {
      "cell_type": "markdown",
      "metadata": {
        "id": "6c6267af"
      },
      "source": [
        "## Define adaptation and translation logic\n",
        "\n",
        "### Subtask:\n",
        "Define the adaptation and translation logic using a language model for adaptation and a transformers model for translation.\n"
      ]
    },
    {
      "cell_type": "markdown",
      "metadata": {
        "id": "16710fa4"
      },
      "source": [
        "**Reasoning**:\n",
        "Import necessary libraries and define the adaptation and translation logic using a language model for adaptation and a transformers model for translation.\n",
        "\n"
      ]
    },
    {
      "cell_type": "code",
      "metadata": {
        "id": "c3d08023"
      },
      "source": [
        "from transformers import pipeline\n",
        "\n",
        "def adapt_and_translate_post(post_filename, platform, language):\n",
        "    \"\"\"\n",
        "    Adapts and translates a social media post for a target platform and language.\n",
        "\n",
        "    Args:\n",
        "        post_filename (str): The filename of the post to adapt and translate.\n",
        "        platform (str): The target social media platform (e.g., \"Instagram\").\n",
        "        language (str): The target language (e.g., \"English\").\n",
        "\n",
        "    Returns:\n",
        "        str: The adapted and translated post content.\n",
        "    \"\"\"\n",
        "    # Retrieve the original post content\n",
        "    original_post = loaded_posts.get(post_filename)\n",
        "\n",
        "    if original_post is None:\n",
        "        return \"Error: Post not found.\"\n",
        "\n",
        "    # Simple adaptation logic based on platform\n",
        "    adapted_post = original_post\n",
        "    if platform == \"Instagram\":\n",
        "        # Add some hashtags (example)\n",
        "        adapted_post = original_post + \"\\n\\n#health #healthcare #medicalinformation\"\n",
        "    elif platform == \"Facebook\":\n",
        "        # Keep it similar to original, maybe slightly more formal\n",
        "        adapted_post = original_post\n",
        "    elif platform == \"TikTok\":\n",
        "        # Shorter, more direct (example - this is a simplification)\n",
        "        adapted_post = original_post[:1000] + \"...\" # Truncate for brevity\n",
        "    elif platform == \"YouTube\":\n",
        "        # Could be used for video description, potentially longer (example)\n",
        "        adapted_post = original_post\n",
        "\n",
        "    # Initialize translation pipeline\n",
        "    # Assuming source language is Dutch ('nl') based on the website\n",
        "    # Using a general-purpose translation model\n",
        "    translator = pipeline(\"translation\", model=\"Helsinki-NLP/opus-mt-nl-en\") # Default to English translation model\n",
        "\n",
        "    # Select the appropriate translation model based on the target language\n",
        "    if language == \"French\":\n",
        "        translator = pipeline(\"translation\", model=\"Helsinki-NLP/opus-mt-nl-fr\")\n",
        "    elif language == \"Spanish\":\n",
        "        translator = pipeline(\"translation\", model=\"Helsinki-NLP/opus-mt-nl-es\")\n",
        "    elif language == \"English\":\n",
        "         translator = pipeline(\"translation\", model=\"Helsinki-NLP/opus-mt-nl-en\")\n",
        "    else:\n",
        "        return \"Error: Unsupported target language for translation.\"\n",
        "\n",
        "\n",
        "    # Translate the adapted post\n",
        "    try:\n",
        "        translated_post = translator(adapted_post)[0]['translation_text']\n",
        "    except Exception as e:\n",
        "        return f\"Error during translation: {e}\"\n",
        "\n",
        "\n",
        "    return translated_post\n"
      ],
      "execution_count": 66,
      "outputs": []
    },
    {
      "cell_type": "markdown",
      "metadata": {
        "id": "e6aff3d6"
      },
      "source": [
        "## Integrate logic with gradio\n",
        "\n",
        "### Subtask:\n",
        "Connect the adaptation and translation function to the Gradio interface so that when a user interacts with the input components, the adapted and translated post is displayed in the output component.\n"
      ]
    },
    {
      "cell_type": "markdown",
      "metadata": {
        "id": "1e630d90"
      },
      "source": [
        "**Reasoning**:\n",
        "Modify the Gradio interface definition to include an event listener that triggers the adaptation and translation function when input values change and updates the output.\n",
        "\n"
      ]
    },
    {
      "cell_type": "code",
      "metadata": {
        "id": "2dd3f468"
      },
      "source": [
        "with gr.Blocks() as demo:\n",
        "    gr.Markdown(\"# Social Media Post Adapter and Translator\")\n",
        "\n",
        "    with gr.Row():\n",
        "        post_selector = gr.Dropdown(\n",
        "            post_filenames, label=\"Select a Post\"\n",
        "        )\n",
        "        platform_selector = gr.Dropdown(\n",
        "            social_media_platforms, label=\"Select Target Platform\"\n",
        "        )\n",
        "        language_selector = gr.Dropdown(\n",
        "            target_languages, label=\"Select Target Language\"\n",
        "        )\n",
        "\n",
        "    output_post = gr.Textbox(label=\"Adapted and Translated Post\", lines=10)\n",
        "\n",
        "    # Connect the adaptation and translation function to the input components\n",
        "    post_selector.change(\n",
        "        adapt_and_translate_post,\n",
        "        inputs=[post_selector, platform_selector, language_selector],\n",
        "        outputs=output_post\n",
        "    )\n",
        "    platform_selector.change(\n",
        "        adapt_and_translate_post,\n",
        "        inputs=[post_selector, platform_selector, language_selector],\n",
        "        outputs=output_post\n",
        "    )\n",
        "    language_selector.change(\n",
        "        adapt_and_translate_post,\n",
        "        inputs=[post_selector, platform_selector, language_selector],\n",
        "        outputs=output_post\n",
        "    )\n",
        "\n",
        "# To run the interface, uncomment the line below:\n",
        "# demo.launch()"
      ],
      "execution_count": 67,
      "outputs": []
    },
    {
      "cell_type": "markdown",
      "metadata": {
        "id": "48f365b5"
      },
      "source": [
        "## Launch gradio app\n",
        "\n",
        "### Subtask:\n",
        "Launch the Gradio application to make it accessible.\n"
      ]
    },
    {
      "cell_type": "markdown",
      "metadata": {
        "id": "49016a45"
      },
      "source": [
        "**Reasoning**:\n",
        "Launch the Gradio application to make it accessible.\n",
        "\n"
      ]
    },
    {
      "cell_type": "code",
      "metadata": {
        "colab": {
          "base_uri": "https://localhost:8080/",
          "height": 645
        },
        "id": "d9934326",
        "outputId": "55de7227-ad2f-4b66-8cbd-5c8940f74ff6"
      },
      "source": [
        "demo.launch()"
      ],
      "execution_count": 68,
      "outputs": [
        {
          "output_type": "stream",
          "name": "stdout",
          "text": [
            "It looks like you are running Gradio on a hosted Jupyter notebook, which requires `share=True`. Automatically setting `share=True` (you can turn this off by setting `share=False` in `launch()` explicitly).\n",
            "\n",
            "Colab notebook detected. To show errors in colab notebook, set debug=True in launch()\n",
            "* Running on public URL: https://b232dc03b4e9b25dd3.gradio.live\n",
            "\n",
            "This share link expires in 1 week. For free permanent hosting and GPU upgrades, run `gradio deploy` from the terminal in the working directory to deploy to Hugging Face Spaces (https://huggingface.co/spaces)\n"
          ]
        },
        {
          "output_type": "display_data",
          "data": {
            "text/plain": [
              "<IPython.core.display.HTML object>"
            ],
            "text/html": [
              "<div><iframe src=\"https://b232dc03b4e9b25dd3.gradio.live\" width=\"100%\" height=\"500\" allow=\"autoplay; camera; microphone; clipboard-read; clipboard-write;\" frameborder=\"0\" allowfullscreen></iframe></div>"
            ]
          },
          "metadata": {}
        },
        {
          "output_type": "execute_result",
          "data": {
            "text/plain": []
          },
          "metadata": {},
          "execution_count": 68
        }
      ]
    },
    {
      "cell_type": "markdown",
      "metadata": {
        "id": "4ba21dc1"
      },
      "source": [
        "## Summary:\n",
        "\n",
        "### Data Analysis Key Findings\n",
        "\n",
        "*   Successfully loaded 1373 markdown files containing generated posts into a dictionary for use in the application.\n",
        "*   A Gradio interface was successfully created with dropdowns for selecting a post, target social media platform (Instagram, Facebook, TikTok, YouTube), and target language (English, French, Spanish), along with a textbox to display the output.\n",
        "*   Adaptation logic was defined for different platforms, including adding hashtags for Instagram and truncating content for TikTok.\n",
        "*   Translation functionality was implemented using `Helsinki-NLP/opus-mt` models for translating from Dutch to English, French, and Spanish.\n",
        "*   The adaptation and translation function was successfully integrated with the Gradio interface, triggering updates to the output textbox whenever a user makes a selection in the input dropdowns.\n",
        "*   The Gradio application was successfully launched and made accessible via a public URL.\n",
        "\n",
        "### Insights or Next Steps\n",
        "\n",
        "*   The current adaptation logic is very basic; enhance it using a more sophisticated language model to generate platform-specific content variations (e.g., tone, structure, inclusion of emojis or platform-specific features).\n",
        "*   Implement error handling and user feedback within the Gradio app, such as indicating when translation is in progress or if an error occurs during processing.\n"
      ]
    }
  ]
}